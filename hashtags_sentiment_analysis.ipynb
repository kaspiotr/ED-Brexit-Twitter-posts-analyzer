{
 "cells": [
  {
   "cell_type": "code",
   "execution_count": 15,
   "metadata": {
    "collapsed": true
   },
   "outputs": [],
   "source": [
    "import psycopg2\n",
    "import pandas as pd\n",
    "import matplotlib.pyplot as plt\n",
    "import matplotlib.axes as ax\n",
    "import seaborn as sn\n",
    "from IPython.display import display"
   ]
  },
  {
   "cell_type": "code",
   "execution_count": 16,
   "metadata": {},
   "outputs": [],
   "source": [
    "def connect_to_database():\n",
    "    file = open('dbconnectioncredentials', 'r')\n",
    "    creds_dict = {}\n",
    "    for line in file:\n",
    "        credential = line.split(\"=\")\n",
    "        value = credential[1]\n",
    "        creds_dict[credential[0]] = value[0:len(value) - 1]\n",
    "    connection = psycopg2.connect(\n",
    "        host=creds_dict['SERVER'],\n",
    "        dbname=creds_dict['DATABASE_NAME'],\n",
    "        user=creds_dict['USER_NAME'],\n",
    "        password=creds_dict['PASSWORD'],\n",
    "        port=creds_dict['PORT']\n",
    "    )\n",
    "    return connection\n"
   ]
  },
  {
   "cell_type": "code",
   "execution_count": 17,
   "metadata": {},
   "outputs": [],
   "source": [
    "connection = connect_to_database()\n",
    "cursor = connection.cursor()\n"
   ]
  },
  {
   "cell_type": "code",
   "execution_count": 18,
   "metadata": {},
   "outputs": [],
   "source": [
    "def create_correlation_hashtags_plot(sql_query):\n",
    "    cursor.execute(sql_query)\n",
    "    result = cursor.fetchall()\n",
    "    df = pd.DataFrame(result, columns=['Date', 'Hashtag'])\n",
    "    df.apply(lambda x: x.factorize()[0]).corr()\n",
    "    corr = pd.crosstab(df.Date, df.Hashtag)\n",
    "    plt.figure(figsize=(7, 5))\n",
    "    sn.heatmap(corr, cmap='gnuplot')\n",
    "    plt.show()\n"
   ]
  },
  {
   "cell_type": "code",
   "execution_count": 19,
   "metadata": {},
   "outputs": [],
   "source": [
    "QUERY_POPULAR_HASHTAGS = \"SELECT cast(tweets.createdat as date) AS Date, hashtags.name AS Hashtag FROM TWEETSHASHTAGS \" \\\n",
    "            \"INNER JOIN tweets on tweetid = tweets.id \" \\\n",
    "            \"INNER JOIN hashtags on hashtagid=hashtags.id \" \\\n",
    "            \"WHERE hashtags.name in ('brexit', 'getbrexitdone', 'stopbrexit');\"\n",
    "\n",
    "\n",
    "create_correlation_hashtags_plot(QUERY_POPULAR_HASHTAGS)\n"
   ]
  },
  {
   "cell_type": "code",
   "execution_count": 20,
   "metadata": {},
   "outputs": [],
   "source": [
    "QUERY_LESS_POPULAR_HASHTAGS = \"SELECT cast(tweets.createdat as date) AS Date, hashtags.name AS Hashtag FROM TWEETSHASHTAGS \" \\\n",
    "            \"INNER JOIN tweets on tweetid = tweets.id \" \\\n",
    "            \"INNER JOIN hashtags on hashtagid=hashtags.id \" \\\n",
    "            \"WHERE hashtags.name in ('brexitdeal', 'hardbrexit');\"\n",
    "\n",
    "create_correlation_hashtags_plot(QUERY_LESS_POPULAR_HASHTAGS)\n"
   ]
  },
  {
   "cell_type": "code",
   "execution_count": 21,
   "metadata": {},
   "outputs": [],
   "source": [
    "QUERY_SENTIMENT_AVG = \"SELECT cast(tweets.createdat as date) AS Date, avg(sentiment) AS sentiment_average FROM TWEETS group by cast(tweets.createdat as date);\"\n",
    "cursor.execute(QUERY_SENTIMENT_AVG)\n",
    "\n",
    "df = pd.DataFrame(cursor.fetchall(), columns=['date', 'sentiment_average'])\n",
    "df.set_index('date')['sentiment_average'].plot()\n",
    "sn.set(font_scale=1.4)\n",
    "df.set_index('date')['sentiment_average'].plot(figsize=(15, 10), linewidth=2.5)\n",
    "plt.xlabel(\"Date\", labelpad=15)\n",
    "plt.xticks(df.date, rotation='90')\n",
    "plt.ylabel(\"Sentiment average\", labelpad=15)\n",
    "plt.show()\n",
    "\n",
    "\n"
   ]
  },
  {
   "cell_type": "code",
   "execution_count": null,
   "metadata": {},
   "outputs": [],
   "source": []
  }
 ],
 "metadata": {
  "kernelspec": {
   "display_name": "Python 2",
   "language": "python",
   "name": "python2"
  },
  "language_info": {
   "codemirror_mode": {
    "name": "ipython",
    "version": 2
   },
   "file_extension": ".py",
   "mimetype": "text/x-python",
   "name": "python",
   "nbconvert_exporter": "python",
   "pygments_lexer": "ipython2",
   "version": "2.7.6"
  }
 },
 "nbformat": 4,
 "nbformat_minor": 0
}
