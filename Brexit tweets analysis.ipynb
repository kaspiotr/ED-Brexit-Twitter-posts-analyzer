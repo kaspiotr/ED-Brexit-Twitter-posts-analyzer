{
 "cells": [
  {
   "cell_type": "code",
   "execution_count": 8,
   "metadata": {},
   "outputs": [],
   "source": [
    "import numpy as np\n",
    "import matplotlib.pyplot as plt\n",
    "import psycopg2\n",
    "\n",
    "\n",
    "def connect_to_database():\n",
    "    file = open('dbconnectioncredentials', 'r')\n",
    "    creds_dict = {}\n",
    "    for line in file:\n",
    "        credential = line.split(\"=\")\n",
    "        value = credential[1]\n",
    "        creds_dict[credential[0]] = value[0:len(value) - 1]\n",
    "    connection = psycopg2.connect(\n",
    "        host=creds_dict['SERVER'],\n",
    "        dbname=creds_dict['DATABASE_NAME'],\n",
    "        user=creds_dict['USER_NAME'],\n",
    "        password=creds_dict['PASSWORD'],\n",
    "        port=creds_dict['PORT']\n",
    "    )\n",
    "    return connection"
   ]
  },
  {
   "cell_type": "markdown",
   "metadata": {},
   "source": [
    "Histogram obrazujący sentyment wszysktich pobranych tweetów dotyczących brexitu:"
   ]
  },
  {
   "cell_type": "code",
   "execution_count": 25,
   "metadata": {},
   "outputs": [
    {
     "name": "stdout",
     "output_type": "stream",
     "text": [
      "Total tweets count: 133612\n",
      "Negative tweets count: 26098\n",
      "Neutral tweets count: 55170\n",
      "Positive tweets count: 52344\n"
     ]
    },
    {
     "data": {
      "image/png": "[encoded data removed]",
      "text/plain": [
       "<Figure size 432x288 with 1 Axes>"
      ]
     },
     "metadata": {
      "needs_background": "light"
     },
     "output_type": "display_data"
    }
   ],
   "source": [
    "def count_tweets_with_negative_sentiment(cursor):\n",
    "    postgres_select_query = \"SELECT count(*) FROM tweets WHERE sentiment<0\"\n",
    "    cursor.execute(postgres_select_query)\n",
    "    return cursor.fetchall()\n",
    "\n",
    "\n",
    "def count_tweets_with_neutral_sentiment(cursor):\n",
    "    postgres_select_query = \"SELECT count(*) FROM tweets WHERE sentiment=0\"\n",
    "    cursor.execute(postgres_select_query)\n",
    "    return cursor.fetchall()\n",
    "\n",
    "\n",
    "def count_tweets_with_positive_sentiment(cursor):\n",
    "    postgres_select_query = \"SELECT count(*) FROM tweets WHERE sentiment>0\"\n",
    "    cursor.execute(postgres_select_query)\n",
    "    return cursor.fetchall()\n",
    "\n",
    "\n",
    "def draw_downloaded_tweets_sentiment_histogram(cursor):\n",
    "    negative_tweets_count = count_tweets_with_negative_sentiment(cursor)\n",
    "    neutral_tweets_count = count_tweets_with_neutral_sentiment(cursor)\n",
    "    positive_tweets_count = count_tweets_with_positive_sentiment(cursor)\n",
    "    \n",
    "    print('Total tweets count: %d' % (negative_tweets_count[0][0] + neutral_tweets_count[0][0] + positive_tweets_count[0][0]))\n",
    "    print('Negative tweets count: %d' % (negative_tweets_count[0][0]))\n",
    "    print('Neutral tweets count: %d' % (neutral_tweets_count[0][0]))\n",
    "    print('Positive tweets count: %d' % (positive_tweets_count[0][0]))\n",
    "    \n",
    "    sentiment = ['negative', 'neutral', 'positive']\n",
    "    tweets_count = []\n",
    "    \n",
    "    tweets_count.append(negative_tweets_count[0][0])\n",
    "    tweets_count.append(neutral_tweets_count[0][0])\n",
    "    tweets_count.append(positive_tweets_count[0][0])\n",
    "\n",
    "    indices = np.arange(3)\n",
    "    plt.bar(indices, tweets_count, color=['red', 'blue', 'green'])\n",
    "    plt.xticks(indices, sentiment, rotation='vertical')\n",
    "    plt.tight_layout()\n",
    "    plt.show()\n",
    "\n",
    "    \n",
    "def main():\n",
    "    conn = connect_to_database()\n",
    "    cursor = conn.cursor()\n",
    "    draw_downloaded_tweets_sentiment_histogram(cursor)\n",
    "    \n",
    "if __name__ == \"__main__\":\n",
    "    main()"
   ]
  },
  {
   "cell_type": "markdown",
   "metadata": {},
   "source": [
    "Histogram przedstawiający ilość followersów dla pięciu najbardziej obserwowanych użytkowników:"
   ]
  },
  {
   "cell_type": "code",
   "execution_count": 39,
   "metadata": {},
   "outputs": [
    {
     "name": "stdout",
     "output_type": "stream",
     "text": [
      "Followers number for each user:\n",
      "User Reuters\t\thas 20904722 followers\n",
      "User BBC News (UK)\thas 10307123 followers\n",
      "User Shashi Tharoor\thas 7117684 followers\n",
      "User Bloomberg\t\thas 5708454 followers\n",
      "User The Hindu\t\thas 5594519 followers\n"
     ]
    },
    {
     "data": {
      "image/png": "[encoded data removed]",
      "text/plain": [
       "<Figure size 432x288 with 1 Axes>"
      ]
     },
     "metadata": {
      "needs_background": "light"
     },
     "output_type": "display_data"
    }
   ],
   "source": [
    "def get_top_five_followed_users(cursor):\n",
    "    postgres_select_query = \"SELECT * FROM users ORDER BY followersnumber DESC FETCH FIRST 5 ROWS ONLY;\"\n",
    "    cursor.execute(postgres_select_query)\n",
    "    return cursor.fetchall()\n",
    "    \n",
    "def draw_top_five_followed_users(data):    \n",
    "    users_names = []\n",
    "    followers_number = []\n",
    "    for i, user in enumerate(data):\n",
    "        users_names.append(data[i][1])\n",
    "        followers_number.append(data[i][6])\n",
    "        \n",
    "    indices = np.arange(5)\n",
    "    plt.bar(indices, followers_number, color=['red', 'orange', 'yellow', 'green', 'blue'])\n",
    "    plt.xticks(indices, users_names, rotation='vertical')\n",
    "    plt.tight_layout()\n",
    "    plt.show()\n",
    "\n",
    "def main():\n",
    "    conn = connect_to_database()\n",
    "    cursor = conn.cursor()\n",
    "    top_five_followed_users_data = get_top_five_followed_users(cursor)\n",
    "    print('Followers number for each user:')\n",
    "    print('User %s\\t\\thas %d followers' % (top_five_followed_users_data[0][1], top_five_followed_users_data[0][6]))\n",
    "    print('User %s\\thas %d followers' % (top_five_followed_users_data[1][1], top_five_followed_users_data[1][6]))\n",
    "    print('User %s\\thas %d followers' % (top_five_followed_users_data[2][1], top_five_followed_users_data[2][6]))\n",
    "    print('User %s\\t\\thas %d followers' % (top_five_followed_users_data[3][1], top_five_followed_users_data[3][6]))\n",
    "    print('User %s\\t\\thas %d followers' % (top_five_followed_users_data[4][1], top_five_followed_users_data[4][6]))\n",
    "    draw_top_five_followed_users(top_five_followed_users_data)\n",
    "\n",
    "    \n",
    "if __name__ == \"__main__\":\n",
    "    main()"
   ]
  },
  {
   "cell_type": "markdown",
   "metadata": {},
   "source": [
    "Histogram przedstawiający dziesięciu najbardziej wspominanych użytkowników:"
   ]
  },
  {
   "cell_type": "code",
   "execution_count": 42,
   "metadata": {},
   "outputs": [
    {
     "name": "stdout",
     "output_type": "stream",
     "text": [
      "Mentions number for each user:\n",
      "User Boris Johnson\thas 7065 mentions\n",
      "User Conservatives\thas 3852 mentions\n",
      "User Liberal Democrats\thas 3122 mentions\n",
      "User Jo Swinson\thas 2245 mentions\n",
      "User Nigel Farage\thas 1823 mentions\n",
      "User BBC Politics\thas 811 mentions\n",
      "User BBC News (UK)\thas 707 mentions\n",
      "User Sky News\thas 662 mentions\n",
      "User Matt Hancock\thas 653 mentions\n",
      "User LBC\thas 529 mentions\n"
     ]
    },
    {
     "data": {
      "image/png": "[encoded data removed]",
      "text/plain": [
       "<Figure size 432x288 with 1 Axes>"
      ]
     },
     "metadata": {
      "needs_background": "light"
     },
     "output_type": "display_data"
    }
   ],
   "source": [
    "def get_top_five_mentioned_users(cursor):\n",
    "    postgres_select_query = \"SELECT users.name, userid, COUNT(tweetid) AS mentionsNumber FROM mentions INNER JOIN users ON mentions.userid = users.id GROUP BY users.name, userid ORDER BY mentionsNumber DESC FETCH FIRST 10 ROWS ONLY;\"\n",
    "    cursor.execute(postgres_select_query)\n",
    "    return cursor.fetchall()\n",
    "    \n",
    "def draw_top_five_mentioned_users(data):    \n",
    "    users_names = []\n",
    "    mentions_number = []\n",
    "    for i, user in enumerate(data):\n",
    "        users_names.append(data[i][0])\n",
    "        mentions_number.append(data[i][2])\n",
    "        \n",
    "    indices = np.arange(10)\n",
    "    plt.bar(indices, mentions_number, color=['red', 'orange', 'gold', 'yellow', 'green', 'blue', 'violet', 'silver', 'grey', 'black'])\n",
    "    plt.xticks(indices, users_names, rotation='vertical')\n",
    "    plt.tight_layout()\n",
    "    plt.show()\n",
    "\n",
    "def main():\n",
    "    conn = connect_to_database()\n",
    "    cursor = conn.cursor()\n",
    "    top_five_mentioned_users_data = get_top_five_mentioned_users(cursor)\n",
    "    print('Mentions number for each user:')\n",
    "    print('User %s\\thas %d mentions' % (top_five_mentioned_users_data[0][0], top_five_mentioned_users_data[0][2]))\n",
    "    print('User %s\\thas %d mentions' % (top_five_mentioned_users_data[1][0], top_five_mentioned_users_data[1][2]))\n",
    "    print('User %s\\thas %d mentions' % (top_five_mentioned_users_data[2][0], top_five_mentioned_users_data[2][2]))\n",
    "    print('User %s\\thas %d mentions' % (top_five_mentioned_users_data[3][0], top_five_mentioned_users_data[3][2]))\n",
    "    print('User %s\\thas %d mentions' % (top_five_mentioned_users_data[4][0], top_five_mentioned_users_data[4][2]))\n",
    "    print('User %s\\thas %d mentions' % (top_five_mentioned_users_data[5][0], top_five_mentioned_users_data[5][2]))\n",
    "    print('User %s\\thas %d mentions' % (top_five_mentioned_users_data[6][0], top_five_mentioned_users_data[6][2]))\n",
    "    print('User %s\\thas %d mentions' % (top_five_mentioned_users_data[7][0], top_five_mentioned_users_data[7][2]))\n",
    "    print('User %s\\thas %d mentions' % (top_five_mentioned_users_data[8][0], top_five_mentioned_users_data[8][2]))\n",
    "    print('User %s\\thas %d mentions' % (top_five_mentioned_users_data[9][0], top_five_mentioned_users_data[9][2]))\n",
    "    draw_top_five_mentioned_users(top_five_mentioned_users_data)\n",
    "\n",
    "    \n",
    "if __name__ == \"__main__\":\n",
    "    main()"
   ]
  },
  {
   "cell_type": "markdown",
   "metadata": {},
   "source": [
    "Histogram przedstawiający ilość pobranych tweetów dotyczących brexitu w danym dniu:"
   ]
  },
  {
   "cell_type": "code",
   "execution_count": 47,
   "metadata": {},
   "outputs": [
    {
     "name": "stdout",
     "output_type": "stream",
     "text": [
      "Tweets about brexit written each day:\n",
      "On 2019-11-11\t was 2119\t tweets about brexit published.\n",
      "On 2019-11-12\t was 14308\t tweets about brexit published.\n",
      "On 2019-11-13\t was 13974\t tweets about brexit published.\n",
      "On 2019-11-14\t was 14463\t tweets about brexit published.\n",
      "On 2019-11-15\t was 8379\t tweets about brexit published.\n",
      "On 2019-11-16\t was 1125\t tweets about brexit published.\n",
      "On 2019-11-17\t was 10939\t tweets about brexit published.\n",
      "On 2019-11-18\t was 11406\t tweets about brexit published.\n",
      "On 2019-11-19\t was 17543\t tweets about brexit published.\n",
      "On 2019-11-20\t was 9334\t tweets about brexit published.\n",
      "On 2019-11-21\t was 10042\t tweets about brexit published.\n",
      "On 2019-11-22\t was 12025\t tweets about brexit published.\n",
      "On 2019-11-23\t was 11125\t tweets about brexit published.\n",
      "On 2019-11-24\t was 4195\t tweets about brexit published.\n",
      "Total tweets count fetched till now: 140977\n"
     ]
    },
    {
     "data": {
      "image/png": "[encoded data removed]",
      "text/plain": [
       "<Figure size 432x288 with 1 Axes>"
      ]
     },
     "metadata": {
      "needs_background": "light"
     },
     "output_type": "display_data"
    }
   ],
   "source": [
    "def get_tweets_number_in_each_day(cursor):\n",
    "    postgres_select_query = \"SELECT DATE(createdat) AS date, COUNT(id) AS tweets_number FROM tweets GROUP BY date ORDER BY date;\"\n",
    "    cursor.execute(postgres_select_query)\n",
    "    return cursor.fetchall()\n",
    "\n",
    "def draw_tweets_number_in_each_day_histogram(data):    \n",
    "    days = []\n",
    "    tweets_number = []\n",
    "    for i, user in enumerate(data):\n",
    "        days.append(data[i][0])\n",
    "        tweets_number.append(data[i][1])\n",
    "        \n",
    "    indices = np.arange(len(days))\n",
    "    plt.bar(indices, tweets_number, color=('b'))\n",
    "    plt.xticks(indices, days, rotation='vertical')\n",
    "    plt.tight_layout()\n",
    "    plt.show()\n",
    "\n",
    "def main():\n",
    "    conn = connect_to_database()\n",
    "    cursor = conn.cursor()\n",
    "    tweets_number_per_day_count = get_tweets_number_in_each_day(cursor)\n",
    "    print('Tweets about brexit written each day:')\n",
    "    total_tweets_count_fetched = 0 \n",
    "    for day, tweets_number in tweets_number_per_day_count:\n",
    "        print(\"On %s\\t was %d\\t tweets about brexit published.\" % (day, tweets_number))\n",
    "        total_tweets_count_fetched += tweets_number\n",
    "    print('Total tweets count fetched till now: %d' % (total_tweets_count_fetched))\n",
    "    draw_tweets_number_in_each_day_histogram(tweets_number_per_day_count)\n",
    "\n",
    "    \n",
    "if __name__ == \"__main__\":\n",
    "    main()"
   ]
  }
 ],
 "metadata": {
  "kernelspec": {
   "display_name": "Python 3",
   "language": "python",
   "name": "python3"
  },
  "language_info": {
   "codemirror_mode": {
    "name": "ipython",
    "version": 3
   },
   "file_extension": ".py",
   "mimetype": "text/x-python",
   "name": "python",
   "nbconvert_exporter": "python",
   "pygments_lexer": "ipython3",
   "version": "3.6.8"
  }
 },
 "nbformat": 4,
 "nbformat_minor": 2
}
