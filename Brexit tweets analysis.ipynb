{
 "cells": [
  {
   "cell_type": "code",
   "execution_count": 13,
   "metadata": {},
   "outputs": [],
   "source": [
    "import numpy as np\n",
    "import matplotlib.pyplot as plt\n",
    "import psycopg2\n",
    "\n",
    "\n",
    "def connect_to_database():\n",
    "    file = open('dbconnectioncredentials', 'r')\n",
    "    creds_dict = {}\n",
    "    for line in file:\n",
    "        credential = line.split(\"=\")\n",
    "        value = credential[1]\n",
    "        creds_dict[credential[0]] = value[0:len(value) - 1]\n",
    "    connection = psycopg2.connect(\n",
    "        host=creds_dict['SERVER'],\n",
    "        dbname=creds_dict['DATABASE_NAME'],\n",
    "        user=creds_dict['USER_NAME'],\n",
    "        password=creds_dict['PASSWORD'],\n",
    "        port=creds_dict['PORT']\n",
    "    )\n",
    "    return connection"
   ]
  },
  {
   "cell_type": "markdown",
   "metadata": {},
   "source": [
    "Histogram obrazujący sentyment wszysktich pobranych tweetów dotyczących brexitu:"
   ]
  },
  {
   "cell_type": "code",
   "execution_count": 14,
   "metadata": {},
   "outputs": [
    {
     "name": "stdout",
     "output_type": "stream",
     "text": [
      "Total tweets count: 353976\n",
      "Negative tweets count: 63462\n",
      "Neutral tweets count: 163662\n",
      "Positive tweets count: 126852\n"
     ]
    },
    {
     "data": {
      "image/png": "[encoded data removed]",
      "text/plain": [
       "<Figure size 432x288 with 1 Axes>"
      ]
     },
     "metadata": {
      "needs_background": "light"
     },
     "output_type": "display_data"
    }
   ],
   "source": [
    "def count_tweets_with_negative_sentiment(cursor):\n",
    "    postgres_select_query = \"SELECT count(*) FROM tweets WHERE sentiment<0\"\n",
    "    cursor.execute(postgres_select_query)\n",
    "    return cursor.fetchall()\n",
    "\n",
    "\n",
    "def count_tweets_with_neutral_sentiment(cursor):\n",
    "    postgres_select_query = \"SELECT count(*) FROM tweets WHERE sentiment=0\"\n",
    "    cursor.execute(postgres_select_query)\n",
    "    return cursor.fetchall()\n",
    "\n",
    "\n",
    "def count_tweets_with_positive_sentiment(cursor):\n",
    "    postgres_select_query = \"SELECT count(*) FROM tweets WHERE sentiment>0\"\n",
    "    cursor.execute(postgres_select_query)\n",
    "    return cursor.fetchall()\n",
    "\n",
    "\n",
    "def draw_downloaded_tweets_sentiment_histogram(cursor):\n",
    "    negative_tweets_count = count_tweets_with_negative_sentiment(cursor)\n",
    "    neutral_tweets_count = count_tweets_with_neutral_sentiment(cursor)\n",
    "    positive_tweets_count = count_tweets_with_positive_sentiment(cursor)\n",
    "    \n",
    "    print('Total tweets count: %d' % (negative_tweets_count[0][0] + neutral_tweets_count[0][0] + positive_tweets_count[0][0]))\n",
    "    print('Negative tweets count: %d' % (negative_tweets_count[0][0]))\n",
    "    print('Neutral tweets count: %d' % (neutral_tweets_count[0][0]))\n",
    "    print('Positive tweets count: %d' % (positive_tweets_count[0][0]))\n",
    "    \n",
    "    sentiment = ['negative', 'neutral', 'positive']\n",
    "    tweets_count = []\n",
    "    \n",
    "    tweets_count.append(negative_tweets_count[0][0])\n",
    "    tweets_count.append(neutral_tweets_count[0][0])\n",
    "    tweets_count.append(positive_tweets_count[0][0])\n",
    "\n",
    "    indices = np.arange(3)\n",
    "    plt.bar(indices, tweets_count, color=['red', 'blue', 'green'])\n",
    "    plt.xticks(indices, sentiment, rotation='vertical')\n",
    "    plt.tight_layout()\n",
    "    plt.show()\n",
    "\n",
    "    \n",
    "def main():\n",
    "    conn = connect_to_database()\n",
    "    cursor = conn.cursor()\n",
    "    draw_downloaded_tweets_sentiment_histogram(cursor)\n",
    "    \n",
    "if __name__ == \"__main__\":\n",
    "    main()"
   ]
  },
  {
   "cell_type": "markdown",
   "metadata": {},
   "source": [
    "Histogram przedstawiający ilość followersów dla pięciu najbardziej obserwowanych użytkowników:"
   ]
  },
  {
   "cell_type": "code",
   "execution_count": 15,
   "metadata": {},
   "outputs": [
    {
     "name": "stdout",
     "output_type": "stream",
     "text": [
      "Followers number for each user:\n",
      "User Reuters has 20949987 followers\n",
      "User CGTN has 14113367 followers\n",
      "User China Xinhua News has 12621094 followers\n",
      "User Times of India has 12211531 followers\n",
      "User NDTV has 11881309 followers\n"
     ]
    },
    {
     "data": {
      "image/png": "[encoded data removed]",
      "text/plain": [
       "<Figure size 432x288 with 1 Axes>"
      ]
     },
     "metadata": {
      "needs_background": "light"
     },
     "output_type": "display_data"
    }
   ],
   "source": [
    "def get_top_five_followed_users(cursor):\n",
    "    postgres_select_query = \"SELECT * FROM users ORDER BY followersnumber DESC FETCH FIRST 5 ROWS ONLY;\"\n",
    "    cursor.execute(postgres_select_query)\n",
    "    return cursor.fetchall()\n",
    "    \n",
    "def draw_top_five_followed_users(data):    \n",
    "    users_names = []\n",
    "    followers_number = []\n",
    "    for i, user in enumerate(data):\n",
    "        users_names.append(data[i][1])\n",
    "        followers_number.append(data[i][6])\n",
    "        \n",
    "    indices = np.arange(5)\n",
    "    plt.bar(indices, followers_number, color=['red', 'orange', 'yellow', 'green', 'blue'])\n",
    "    plt.xticks(indices, users_names, rotation='vertical')\n",
    "    plt.tight_layout()\n",
    "    plt.show()\n",
    "\n",
    "def main():\n",
    "    conn = connect_to_database()\n",
    "    cursor = conn.cursor()\n",
    "    top_five_followed_users_data = get_top_five_followed_users(cursor)\n",
    "    print('Followers number for each user:')\n",
    "    print('User %s has %d followers' % (top_five_followed_users_data[0][1], top_five_followed_users_data[0][6]))\n",
    "    print('User %s has %d followers' % (top_five_followed_users_data[1][1], top_five_followed_users_data[1][6]))\n",
    "    print('User %s has %d followers' % (top_five_followed_users_data[2][1], top_five_followed_users_data[2][6]))\n",
    "    print('User %s has %d followers' % (top_five_followed_users_data[3][1], top_five_followed_users_data[3][6]))\n",
    "    print('User %s has %d followers' % (top_five_followed_users_data[4][1], top_five_followed_users_data[4][6]))\n",
    "    draw_top_five_followed_users(top_five_followed_users_data)\n",
    "\n",
    "    \n",
    "if __name__ == \"__main__\":\n",
    "    main()"
   ]
  },
  {
   "cell_type": "markdown",
   "metadata": {},
   "source": [
    "Histogram przedstawiający dziesięciu najbardziej wspominanych użytkowników:"
   ]
  },
  {
   "cell_type": "code",
   "execution_count": 16,
   "metadata": {},
   "outputs": [
    {
     "name": "stdout",
     "output_type": "stream",
     "text": [
      "Mentions number for each user:\n",
      "User Boris Johnson has 21216 mentions\n",
      "User Conservatives has 11508 mentions\n",
      "User Liberal Democrats has 6063 mentions\n",
      "User Jo Swinson has 3445 mentions\n",
      "User Nigel Farage has 3105 mentions\n",
      "User BBC Politics has 2205 mentions\n",
      "User BBC News (UK) has 1784 mentions\n",
      "User Sky News has 1480 mentions\n",
      "User LBC has 1400 mentions\n",
      "User Matt Hancock has 1246 mentions\n"
     ]
    },
    {
     "data": {
      "image/png": "[encoded data removed]",
      "text/plain": [
       "<Figure size 432x288 with 1 Axes>"
      ]
     },
     "metadata": {
      "needs_background": "light"
     },
     "output_type": "display_data"
    }
   ],
   "source": [
    "def get_top_five_mentioned_users(cursor):\n",
    "    postgres_select_query = \"SELECT users.name, userid, COUNT(tweetid) AS mentionsNumber FROM mentions INNER JOIN users ON mentions.userid = users.id GROUP BY users.name, userid ORDER BY mentionsNumber DESC FETCH FIRST 10 ROWS ONLY;\"\n",
    "    cursor.execute(postgres_select_query)\n",
    "    return cursor.fetchall()\n",
    "    \n",
    "def draw_top_five_mentioned_users(data):    \n",
    "    users_names = []\n",
    "    mentions_number = []\n",
    "    for i, user in enumerate(data):\n",
    "        users_names.append(data[i][0])\n",
    "        mentions_number.append(data[i][2])\n",
    "        \n",
    "    indices = np.arange(10)\n",
    "    plt.bar(indices, mentions_number, color=['red', 'orange', 'gold', 'yellow', 'green', 'blue', 'violet', 'silver', 'grey', 'black'])\n",
    "    plt.xticks(indices, users_names, rotation='vertical')\n",
    "    plt.tight_layout()\n",
    "    plt.show()\n",
    "\n",
    "def main():\n",
    "    conn = connect_to_database()\n",
    "    cursor = conn.cursor()\n",
    "    top_five_mentioned_users_data = get_top_five_mentioned_users(cursor)\n",
    "    print('Mentions number for each user:')\n",
    "    print('User %s has %d mentions' % (top_five_mentioned_users_data[0][0], top_five_mentioned_users_data[0][2]))\n",
    "    print('User %s has %d mentions' % (top_five_mentioned_users_data[1][0], top_five_mentioned_users_data[1][2]))\n",
    "    print('User %s has %d mentions' % (top_five_mentioned_users_data[2][0], top_five_mentioned_users_data[2][2]))\n",
    "    print('User %s has %d mentions' % (top_five_mentioned_users_data[3][0], top_five_mentioned_users_data[3][2]))\n",
    "    print('User %s has %d mentions' % (top_five_mentioned_users_data[4][0], top_five_mentioned_users_data[4][2]))\n",
    "    print('User %s has %d mentions' % (top_five_mentioned_users_data[5][0], top_five_mentioned_users_data[5][2]))\n",
    "    print('User %s has %d mentions' % (top_five_mentioned_users_data[6][0], top_five_mentioned_users_data[6][2]))\n",
    "    print('User %s has %d mentions' % (top_five_mentioned_users_data[7][0], top_five_mentioned_users_data[7][2]))\n",
    "    print('User %s has %d mentions' % (top_five_mentioned_users_data[8][0], top_five_mentioned_users_data[8][2]))\n",
    "    print('User %s has %d mentions' % (top_five_mentioned_users_data[9][0], top_five_mentioned_users_data[9][2]))\n",
    "    draw_top_five_mentioned_users(top_five_mentioned_users_data)\n",
    "\n",
    "    \n",
    "if __name__ == \"__main__\":\n",
    "    main()"
   ]
  },
  {
   "cell_type": "markdown",
   "metadata": {},
   "source": [
    "Histogram przedstawiający ilość pobranych tweetów dotyczących brexitu w danym dniu:"
   ]
  },
  {
   "cell_type": "code",
   "execution_count": 17,
   "metadata": {},
   "outputs": [
    {
     "name": "stdout",
     "output_type": "stream",
     "text": [
      "Tweets about brexit written each day:\n",
      "On 2019-11-11\t was 796\t tweets about brexit published.\n",
      "On 2019-11-12\t was 7604\t tweets about brexit published.\n",
      "On 2019-11-13\t was 9100\t tweets about brexit published.\n",
      "On 2019-11-14\t was 9667\t tweets about brexit published.\n",
      "On 2019-11-15\t was 6017\t tweets about brexit published.\n",
      "On 2019-11-16\t was 848\t tweets about brexit published.\n",
      "On 2019-11-17\t was 8083\t tweets about brexit published.\n",
      "On 2019-11-18\t was 8677\t tweets about brexit published.\n",
      "On 2019-11-19\t was 12939\t tweets about brexit published.\n",
      "On 2019-11-20\t was 7220\t tweets about brexit published.\n",
      "On 2019-11-21\t was 8029\t tweets about brexit published.\n",
      "On 2019-11-22\t was 9624\t tweets about brexit published.\n",
      "On 2019-11-23\t was 9187\t tweets about brexit published.\n",
      "On 2019-11-24\t was 10433\t tweets about brexit published.\n",
      "On 2019-11-25\t was 9577\t tweets about brexit published.\n",
      "On 2019-11-26\t was 10276\t tweets about brexit published.\n",
      "On 2019-11-27\t was 3984\t tweets about brexit published.\n",
      "On 2019-11-28\t was 10345\t tweets about brexit published.\n",
      "On 2019-11-29\t was 8217\t tweets about brexit published.\n",
      "On 2019-11-30\t was 5809\t tweets about brexit published.\n",
      "On 2019-12-01\t was 7729\t tweets about brexit published.\n",
      "On 2019-12-02\t was 7904\t tweets about brexit published.\n",
      "On 2019-12-03\t was 9485\t tweets about brexit published.\n",
      "On 2019-12-04\t was 5088\t tweets about brexit published.\n",
      "On 2019-12-05\t was 11428\t tweets about brexit published.\n",
      "On 2019-12-06\t was 13883\t tweets about brexit published.\n",
      "On 2019-12-07\t was 6618\t tweets about brexit published.\n",
      "On 2019-12-08\t was 6862\t tweets about brexit published.\n",
      "On 2019-12-09\t was 10211\t tweets about brexit published.\n",
      "On 2019-12-10\t was 13803\t tweets about brexit published.\n",
      "On 2019-12-11\t was 14816\t tweets about brexit published.\n",
      "On 2019-12-12\t was 26560\t tweets about brexit published.\n",
      "On 2019-12-13\t was 42705\t tweets about brexit published.\n",
      "On 2019-12-14\t was 12806\t tweets about brexit published.\n",
      "On 2019-12-15\t was 7646\t tweets about brexit published.\n",
      "Total tweets count fetched till now: 353976\n"
     ]
    },
    {
     "data": {
      "image/png": "[encoded data removed]",
      "text/plain": [
       "<Figure size 432x288 with 1 Axes>"
      ]
     },
     "metadata": {
      "needs_background": "light"
     },
     "output_type": "display_data"
    }
   ],
   "source": [
    "def get_tweets_number_in_each_day(cursor):\n",
    "    postgres_select_query = \"SELECT DATE(createdat) AS date, COUNT(id) AS tweets_number FROM tweets GROUP BY date ORDER BY date;\"\n",
    "    cursor.execute(postgres_select_query)\n",
    "    return cursor.fetchall()\n",
    "\n",
    "def draw_tweets_number_in_each_day_histogram(data):    \n",
    "    days = []\n",
    "    tweets_number = []\n",
    "    for i, user in enumerate(data):\n",
    "        days.append(data[i][0])\n",
    "        tweets_number.append(data[i][1])\n",
    "        \n",
    "    indices = np.arange(len(days))\n",
    "    plt.bar(indices, tweets_number, color=('b'))\n",
    "    plt.xticks(indices, days, rotation='vertical')\n",
    "    plt.tight_layout()\n",
    "    plt.show()\n",
    "\n",
    "def main():\n",
    "    conn = connect_to_database()\n",
    "    cursor = conn.cursor()\n",
    "    tweets_number_per_day_count = get_tweets_number_in_each_day(cursor)\n",
    "    print('Tweets about brexit written each day:')\n",
    "    total_tweets_count_fetched = 0 \n",
    "    for day, tweets_number in tweets_number_per_day_count:\n",
    "        print(\"On %s\\t was %d\\t tweets about brexit published.\" % (day, tweets_number))\n",
    "        total_tweets_count_fetched += tweets_number\n",
    "    print('Total tweets count fetched till now: %d' % (total_tweets_count_fetched))\n",
    "    draw_tweets_number_in_each_day_histogram(tweets_number_per_day_count)\n",
    "\n",
    "    \n",
    "if __name__ == \"__main__\":\n",
    "    main()"
   ]
  },
  {
   "cell_type": "markdown",
   "metadata": {},
   "source": [
    "Histogram obrazujący najczęściej wykorzystywane hashtagi spośród obserowowanych przez nas:"
   ]
  },
  {
   "cell_type": "code",
   "execution_count": 18,
   "metadata": {},
   "outputs": [
    {
     "name": "stdout",
     "output_type": "stream",
     "text": [
      "Numbers of tweets where particular hashtag was used:\n",
      "Hashtag brexit was used in 123097 tweets.\n",
      "Hashtag getbrexitdone was used in 21393 tweets.\n",
      "Hashtag stopbrexit was used in 20417 tweets.\n",
      "Hashtag brexitdeal was used in 485 tweets.\n",
      "Hashtag hardbrexit was used in 319 tweets.\n"
     ]
    },
    {
     "data": {
      "image/png": "[encoded data removed]",
      "text/plain": [
       "<Figure size 432x288 with 1 Axes>"
      ]
     },
     "metadata": {
      "needs_background": "light"
     },
     "output_type": "display_data"
    }
   ],
   "source": [
    "def get_hashtags_uses_count(cursor):\n",
    "    postgres_select_query = \"SELECT h.name, COUNT(tweets.id) AS hashtags_count FROM tweets INNER JOIN tweetshashtags th ON tweets.id = th.tweetid INNER JOIN hashtags h on th.hashtagid = h.id GROUP BY h.name ORDER BY hashtags_count DESC;\"\n",
    "    cursor.execute(postgres_select_query)\n",
    "    return cursor.fetchall()\n",
    "\n",
    "def draw_hashtag_uses_count(data):    \n",
    "    hashtags_names = []\n",
    "    tweets_number = []\n",
    "    for i, user in enumerate(data):\n",
    "        hashtags_names.append(data[i][0])\n",
    "        tweets_number.append(data[i][1])\n",
    "        \n",
    "    indices = np.arange(len(hashtags_names))\n",
    "    plt.bar(indices, tweets_number, color=['red', 'orange', 'yellow', 'green', 'blue'])\n",
    "    plt.xticks(indices, hashtags_names, rotation='vertical')\n",
    "    plt.tight_layout()\n",
    "    plt.show()\n",
    "\n",
    "def main():\n",
    "    conn = connect_to_database()\n",
    "    cursor = conn.cursor()\n",
    "    hashtags_count = get_hashtags_uses_count(cursor)\n",
    "    print('Numbers of tweets where particular hashtag was used:')\n",
    "    total_tweets_count_fetched = 0 \n",
    "    for hashtag_name, tweets_number in hashtags_count:\n",
    "        print(\"Hashtag %s was used in %d tweets.\" % (hashtag_name, tweets_number))\n",
    "    draw_hashtag_uses_count(hashtags_count)\n",
    "\n",
    "    \n",
    "if __name__ == \"__main__\":\n",
    "    main()"
   ]
  },
  {
   "cell_type": "markdown",
   "metadata": {},
   "source": [
    "Histogramy przedstawiające rozłożenie sentymentu tweetów, w których wspominany został Boris Johnson przed i po wyborach"
   ]
  },
  {
   "cell_type": "code",
   "execution_count": 20,
   "metadata": {},
   "outputs": [
    {
     "name": "stdout",
     "output_type": "stream",
     "text": [
      "Total tweets count before elections mentioning Boris Johnson: 18028\n",
      "Negative tweets count before elecions: 3890\n",
      "Neutral tweets count before elecions: 7069\n",
      "Positive tweets count before elecions: 7069\n"
     ]
    },
    {
     "data": {
      "image/png": "[encoded data removed]",
      "text/plain": [
       "<Figure size 432x288 with 1 Axes>"
      ]
     },
     "metadata": {
      "needs_background": "light"
     },
     "output_type": "display_data"
    },
    {
     "name": "stdout",
     "output_type": "stream",
     "text": [
      "Total tweets count during and after elections mentioning Boris Johnson: 4280\n",
      "Negative tweets count during and after elecions: 634\n",
      "Neutral tweets count during and after elecions: 1823\n",
      "Positive tweets count during and after elecions: 1823\n"
     ]
    },
    {
     "data": {
      "image/png": "[encoded data removed]",
      "text/plain": [
       "<Figure size 432x288 with 1 Axes>"
      ]
     },
     "metadata": {
      "needs_background": "light"
     },
     "output_type": "display_data"
    }
   ],
   "source": [
    "def get_negative_tweets_count_before_elections(cursor):\n",
    "    postgres_select_query = \"SELECT count(t.id) FROM tweets t INNER JOIN mentions m ON t.id = m.tweetid INNER JOIN users u ON m.userid = u.id WHERE t.createdat<'2019-12-12' AND u.name='Boris Johnson' AND t.sentiment<0;\"\n",
    "    cursor.execute(postgres_select_query)\n",
    "    return cursor.fetchall()\n",
    "\n",
    "def get_neutral_tweets_count_before_elections(cursor):\n",
    "    postgres_select_query = \"SELECT count(t.id) FROM tweets t INNER JOIN mentions m ON t.id = m.tweetid INNER JOIN users u ON m.userid = u.id WHERE t.createdat<'2019-12-12' AND u.name='Boris Johnson' AND t.sentiment=0;\"\n",
    "    cursor.execute(postgres_select_query)\n",
    "    return cursor.fetchall()\n",
    "\n",
    "def get_positive_tweets_count_before_elections(cursor):\n",
    "    postgres_select_query = \"SELECT count(t.id) FROM tweets t INNER JOIN mentions m ON t.id = m.tweetid INNER JOIN users u ON m.userid = u.id WHERE t.createdat<'2019-12-12' AND u.name='Boris Johnson' AND t.sentiment=0;\"\n",
    "    cursor.execute(postgres_select_query)\n",
    "    return cursor.fetchall()\n",
    "\n",
    "def get_negative_tweets_count_during_and_after_elections(cursor):\n",
    "    postgres_select_query = \"SELECT count(t.id) FROM tweets t INNER JOIN mentions m ON t.id = m.tweetid INNER JOIN users u ON m.userid = u.id WHERE t.createdat>='2019-12-12' AND u.name='Boris Johnson' AND t.sentiment<0;\"\n",
    "    cursor.execute(postgres_select_query)\n",
    "    return cursor.fetchall()\n",
    "\n",
    "def get_neutral_tweets_count_during_and_after_elections(cursor):\n",
    "    postgres_select_query = \"SELECT count(t.id) FROM tweets t INNER JOIN mentions m ON t.id = m.tweetid INNER JOIN users u ON m.userid = u.id WHERE t.createdat>='2019-12-12' AND u.name='Boris Johnson' AND t.sentiment=0;\"\n",
    "    cursor.execute(postgres_select_query)\n",
    "    return cursor.fetchall()\n",
    "\n",
    "def get_positive_tweets_count_during_and_after_elections(cursor):\n",
    "    postgres_select_query = \"SELECT count(t.id) FROM tweets t INNER JOIN mentions m ON t.id = m.tweetid INNER JOIN users u ON m.userid = u.id WHERE t.createdat>='2019-12-12' AND u.name='Boris Johnson' AND t.sentiment=0;\"\n",
    "    cursor.execute(postgres_select_query)\n",
    "    return cursor.fetchall()\n",
    "\n",
    "def draw_tweets_sentiment_mentioning_user_before_elections_histogram(data):    \n",
    "    negative_tweets_count = get_negative_tweets_count_before_elections(data)\n",
    "    neutral_tweets_count = get_neutral_tweets_count_before_elections(data)\n",
    "    positive_tweets_count = get_positive_tweets_count_before_elections(data)\n",
    "    \n",
    "    print('Total tweets count before elections mentioning Boris Johnson: %d' % (negative_tweets_count[0][0] + neutral_tweets_count[0][0] + positive_tweets_count[0][0]))\n",
    "    print('Negative tweets count before elecions: %d' % (negative_tweets_count[0][0]))\n",
    "    print('Neutral tweets count before elecions: %d' % (neutral_tweets_count[0][0]))\n",
    "    print('Positive tweets count before elecions: %d' % (positive_tweets_count[0][0]))\n",
    "    \n",
    "    sentiment = ['negative', 'neutral', 'positive']\n",
    "    tweets_count = []\n",
    "    \n",
    "    tweets_count.append(negative_tweets_count[0][0])\n",
    "    tweets_count.append(neutral_tweets_count[0][0])\n",
    "    tweets_count.append(positive_tweets_count[0][0])\n",
    "\n",
    "    indices = np.arange(3)\n",
    "    plt.bar(indices, tweets_count, color=['red', 'blue', 'green'])\n",
    "    plt.xticks(indices, sentiment, rotation='vertical')\n",
    "    plt.tight_layout()\n",
    "    plt.show()\n",
    "    \n",
    "def draw_tweets_sentiment_mentioning_user_during_and_after_elections_histogram(data):    \n",
    "    negative_tweets_count = get_negative_tweets_count_during_and_after_elections(data)\n",
    "    neutral_tweets_count = get_neutral_tweets_count_during_and_after_elections(data)\n",
    "    positive_tweets_count = get_positive_tweets_count_during_and_after_elections(data)\n",
    "    \n",
    "    print('Total tweets count during and after elections mentioning Boris Johnson: %d' % (negative_tweets_count[0][0] + neutral_tweets_count[0][0] + positive_tweets_count[0][0]))\n",
    "    print('Negative tweets count during and after elecions: %d' % (negative_tweets_count[0][0]))\n",
    "    print('Neutral tweets count during and after elecions: %d' % (neutral_tweets_count[0][0]))\n",
    "    print('Positive tweets count during and after elecions: %d' % (positive_tweets_count[0][0]))\n",
    "    \n",
    "    sentiment = ['negative', 'neutral', 'positive']\n",
    "    tweets_count = []\n",
    "    \n",
    "    tweets_count.append(negative_tweets_count[0][0])\n",
    "    tweets_count.append(neutral_tweets_count[0][0])\n",
    "    tweets_count.append(positive_tweets_count[0][0])\n",
    "\n",
    "    indices = np.arange(3)\n",
    "    plt.bar(indices, tweets_count, color=['red', 'blue', 'green'])\n",
    "    plt.xticks(indices, sentiment, rotation='vertical')\n",
    "    plt.tight_layout()\n",
    "    plt.show()\n",
    "\n",
    "def main():\n",
    "    conn = connect_to_database()\n",
    "    cursor = conn.cursor()\n",
    "    draw_tweets_sentiment_mentioning_user_before_elections_histogram(cursor)\n",
    "    draw_tweets_sentiment_mentioning_user_during_and_after_elections_histogram(cursor)\n",
    "    \n",
    "if __name__ == \"__main__\":\n",
    "    main()"
   ]
  },
  {
   "cell_type": "markdown",
   "metadata": {},
   "source": [
    "Histogramy przedstawiające rozłożenie sentymentu tweetów, w których wspominiana została partia konserwatywna (Conservatives) przed i po wyborach"
   ]
  },
  {
   "cell_type": "code",
   "execution_count": 22,
   "metadata": {},
   "outputs": [
    {
     "name": "stdout",
     "output_type": "stream",
     "text": [
      "Total tweets count before elections mentioning Conservatives party: 10101\n",
      "Negative tweets count before elecions: 2117\n",
      "Neutral tweets count before elecions: 3992\n",
      "Positive tweets count before elecions: 3992\n"
     ]
    },
    {
     "data": {
      "image/png": "[encoded data removed]",
      "text/plain": [
       "<Figure size 432x288 with 1 Axes>"
      ]
     },
     "metadata": {
      "needs_background": "light"
     },
     "output_type": "display_data"
    },
    {
     "name": "stdout",
     "output_type": "stream",
     "text": [
      "Total tweets count during and after elections mentioning Conservatives party: 1513\n",
      "Negative tweets count during and after elecions: 307\n",
      "Neutral tweets count during and after elecions: 603\n",
      "Positive tweets count during and after elecions: 603\n"
     ]
    },
    {
     "data": {
      "image/png": "[encoded data removed]",
      "text/plain": [
       "<Figure size 432x288 with 1 Axes>"
      ]
     },
     "metadata": {
      "needs_background": "light"
     },
     "output_type": "display_data"
    }
   ],
   "source": [
    "def get_negative_tweets_count_before_elections(cursor):\n",
    "    postgres_select_query = \"SELECT count(t.id) FROM tweets t INNER JOIN mentions m ON t.id = m.tweetid INNER JOIN users u ON m.userid = u.id WHERE t.createdat<'2019-12-12' AND u.name='Conservatives' AND t.sentiment<0;\"\n",
    "    cursor.execute(postgres_select_query)\n",
    "    return cursor.fetchall()\n",
    "\n",
    "def get_neutral_tweets_count_before_elections(cursor):\n",
    "    postgres_select_query = \"SELECT count(t.id) FROM tweets t INNER JOIN mentions m ON t.id = m.tweetid INNER JOIN users u ON m.userid = u.id WHERE t.createdat<'2019-12-12' AND u.name='Conservatives' AND t.sentiment=0;\"\n",
    "    cursor.execute(postgres_select_query)\n",
    "    return cursor.fetchall()\n",
    "\n",
    "def get_positive_tweets_count_before_elections(cursor):\n",
    "    postgres_select_query = \"SELECT count(t.id) FROM tweets t INNER JOIN mentions m ON t.id = m.tweetid INNER JOIN users u ON m.userid = u.id WHERE t.createdat<'2019-12-12' AND u.name='Conservatives' AND t.sentiment=0;\"\n",
    "    cursor.execute(postgres_select_query)\n",
    "    return cursor.fetchall()\n",
    "\n",
    "def get_negative_tweets_count_during_and_after_elections(cursor):\n",
    "    postgres_select_query = \"SELECT count(t.id) FROM tweets t INNER JOIN mentions m ON t.id = m.tweetid INNER JOIN users u ON m.userid = u.id WHERE t.createdat>='2019-12-12' AND u.name='Conservatives' AND t.sentiment<0;\"\n",
    "    cursor.execute(postgres_select_query)\n",
    "    return cursor.fetchall()\n",
    "\n",
    "def get_neutral_tweets_count_during_and_after_elections(cursor):\n",
    "    postgres_select_query = \"SELECT count(t.id) FROM tweets t INNER JOIN mentions m ON t.id = m.tweetid INNER JOIN users u ON m.userid = u.id WHERE t.createdat>='2019-12-12' AND u.name='Conservatives' AND t.sentiment=0;\"\n",
    "    cursor.execute(postgres_select_query)\n",
    "    return cursor.fetchall()\n",
    "\n",
    "def get_positive_tweets_count_during_and_after_elections(cursor):\n",
    "    postgres_select_query = \"SELECT count(t.id) FROM tweets t INNER JOIN mentions m ON t.id = m.tweetid INNER JOIN users u ON m.userid = u.id WHERE t.createdat>='2019-12-12' AND u.name='Conservatives' AND t.sentiment=0;\"\n",
    "    cursor.execute(postgres_select_query)\n",
    "    return cursor.fetchall()\n",
    "\n",
    "def draw_tweets_sentiment_mentioning_user_before_elections_histogram(data):    \n",
    "    negative_tweets_count = get_negative_tweets_count_before_elections(data)\n",
    "    neutral_tweets_count = get_neutral_tweets_count_before_elections(data)\n",
    "    positive_tweets_count = get_positive_tweets_count_before_elections(data)\n",
    "    \n",
    "    print('Total tweets count before elections mentioning Conservatives party: %d' % (negative_tweets_count[0][0] + neutral_tweets_count[0][0] + positive_tweets_count[0][0]))\n",
    "    print('Negative tweets count before elecions: %d' % (negative_tweets_count[0][0]))\n",
    "    print('Neutral tweets count before elecions: %d' % (neutral_tweets_count[0][0]))\n",
    "    print('Positive tweets count before elecions: %d' % (positive_tweets_count[0][0]))\n",
    "    \n",
    "    sentiment = ['negative', 'neutral', 'positive']\n",
    "    tweets_count = []\n",
    "    \n",
    "    tweets_count.append(negative_tweets_count[0][0])\n",
    "    tweets_count.append(neutral_tweets_count[0][0])\n",
    "    tweets_count.append(positive_tweets_count[0][0])\n",
    "\n",
    "    indices = np.arange(3)\n",
    "    plt.bar(indices, tweets_count, color=['red', 'blue', 'green'])\n",
    "    plt.xticks(indices, sentiment, rotation='vertical')\n",
    "    plt.tight_layout()\n",
    "    plt.show()\n",
    "    \n",
    "def draw_tweets_sentiment_mentioning_user_during_and_after_elections_histogram(data):    \n",
    "    negative_tweets_count = get_negative_tweets_count_during_and_after_elections(data)\n",
    "    neutral_tweets_count = get_neutral_tweets_count_during_and_after_elections(data)\n",
    "    positive_tweets_count = get_positive_tweets_count_during_and_after_elections(data)\n",
    "    \n",
    "    print('Total tweets count during and after elections mentioning Conservatives party: %d' % (negative_tweets_count[0][0] + neutral_tweets_count[0][0] + positive_tweets_count[0][0]))\n",
    "    print('Negative tweets count during and after elecions: %d' % (negative_tweets_count[0][0]))\n",
    "    print('Neutral tweets count during and after elecions: %d' % (neutral_tweets_count[0][0]))\n",
    "    print('Positive tweets count during and after elecions: %d' % (positive_tweets_count[0][0]))\n",
    "    \n",
    "    sentiment = ['negative', 'neutral', 'positive']\n",
    "    tweets_count = []\n",
    "    \n",
    "    tweets_count.append(negative_tweets_count[0][0])\n",
    "    tweets_count.append(neutral_tweets_count[0][0])\n",
    "    tweets_count.append(positive_tweets_count[0][0])\n",
    "\n",
    "    indices = np.arange(3)\n",
    "    plt.bar(indices, tweets_count, color=['red', 'blue', 'green'])\n",
    "    plt.xticks(indices, sentiment, rotation='vertical')\n",
    "    plt.tight_layout()\n",
    "    plt.show()\n",
    "\n",
    "def main():\n",
    "    conn = connect_to_database()\n",
    "    cursor = conn.cursor()\n",
    "    draw_tweets_sentiment_mentioning_user_before_elections_histogram(cursor)\n",
    "    draw_tweets_sentiment_mentioning_user_during_and_after_elections_histogram(cursor)\n",
    "    \n",
    "if __name__ == \"__main__\":\n",
    "    main()"
   ]
  },
  {
   "cell_type": "markdown",
   "metadata": {},
   "source": [
    "Histogramy przedstawiające rozłożenie sentymentu tweetów, w których wspominiana została partia Liberalnych Demokratów (Liberal Democrates) przed i po wyborach"
   ]
  },
  {
   "cell_type": "code",
   "execution_count": 25,
   "metadata": {},
   "outputs": [
    {
     "name": "stdout",
     "output_type": "stream",
     "text": [
      "Total tweets count before elections mentioning Liberal Democrats party: 4909\n",
      "Negative tweets count before elecions: 1061\n",
      "Neutral tweets count before elecions: 1924\n",
      "Positive tweets count before elecions: 1924\n"
     ]
    },
    {
     "data": {
      "image/png": "[encoded data removed]",
      "text/plain": [
       "<Figure size 432x288 with 1 Axes>"
      ]
     },
     "metadata": {
      "needs_background": "light"
     },
     "output_type": "display_data"
    },
    {
     "name": "stdout",
     "output_type": "stream",
     "text": [
      "Total tweets count during and after elections mentioning Liberal Democrats party: 522\n",
      "Negative tweets count during and after elecions: 94\n",
      "Neutral tweets count during and after elecions: 214\n",
      "Positive tweets count during and after elecions: 214\n"
     ]
    },
    {
     "data": {
      "image/png": "[encoded data removed]",
      "text/plain": [
       "<Figure size 432x288 with 1 Axes>"
      ]
     },
     "metadata": {
      "needs_background": "light"
     },
     "output_type": "display_data"
    }
   ],
   "source": [
    "def get_negative_tweets_count_before_elections(cursor):\n",
    "    postgres_select_query = \"SELECT count(t.id) FROM tweets t INNER JOIN mentions m ON t.id = m.tweetid INNER JOIN users u ON m.userid = u.id WHERE t.createdat<'2019-12-12' AND u.name='Liberal Democrats' AND t.sentiment<0;\"\n",
    "    cursor.execute(postgres_select_query)\n",
    "    return cursor.fetchall()\n",
    "\n",
    "def get_neutral_tweets_count_before_elections(cursor):\n",
    "    postgres_select_query = \"SELECT count(t.id) FROM tweets t INNER JOIN mentions m ON t.id = m.tweetid INNER JOIN users u ON m.userid = u.id WHERE t.createdat<'2019-12-12' AND u.name='Liberal Democrats' AND t.sentiment=0;\"\n",
    "    cursor.execute(postgres_select_query)\n",
    "    return cursor.fetchall()\n",
    "\n",
    "def get_positive_tweets_count_before_elections(cursor):\n",
    "    postgres_select_query = \"SELECT count(t.id) FROM tweets t INNER JOIN mentions m ON t.id = m.tweetid INNER JOIN users u ON m.userid = u.id WHERE t.createdat<'2019-12-12' AND u.name='Liberal Democrats' AND t.sentiment=0;\"\n",
    "    cursor.execute(postgres_select_query)\n",
    "    return cursor.fetchall()\n",
    "\n",
    "def get_negative_tweets_count_during_and_after_elections(cursor):\n",
    "    postgres_select_query = \"SELECT count(t.id) FROM tweets t INNER JOIN mentions m ON t.id = m.tweetid INNER JOIN users u ON m.userid = u.id WHERE t.createdat>='2019-12-12' AND u.name='Liberal Democrats' AND t.sentiment<0;\"\n",
    "    cursor.execute(postgres_select_query)\n",
    "    return cursor.fetchall()\n",
    "\n",
    "def get_neutral_tweets_count_during_and_after_elections(cursor):\n",
    "    postgres_select_query = \"SELECT count(t.id) FROM tweets t INNER JOIN mentions m ON t.id = m.tweetid INNER JOIN users u ON m.userid = u.id WHERE t.createdat>='2019-12-12' AND u.name='Liberal Democrats' AND t.sentiment=0;\"\n",
    "    cursor.execute(postgres_select_query)\n",
    "    return cursor.fetchall()\n",
    "\n",
    "def get_positive_tweets_count_during_and_after_elections(cursor):\n",
    "    postgres_select_query = \"SELECT count(t.id) FROM tweets t INNER JOIN mentions m ON t.id = m.tweetid INNER JOIN users u ON m.userid = u.id WHERE t.createdat>='2019-12-12' AND u.name='Liberal Democrats' AND t.sentiment=0;\"\n",
    "    cursor.execute(postgres_select_query)\n",
    "    return cursor.fetchall()\n",
    "\n",
    "def draw_tweets_sentiment_mentioning_user_before_elections_histogram(data):    \n",
    "    negative_tweets_count = get_negative_tweets_count_before_elections(data)\n",
    "    neutral_tweets_count = get_neutral_tweets_count_before_elections(data)\n",
    "    positive_tweets_count = get_positive_tweets_count_before_elections(data)\n",
    "    \n",
    "    print('Total tweets count before elections mentioning Liberal Democrats party: %d' % (negative_tweets_count[0][0] + neutral_tweets_count[0][0] + positive_tweets_count[0][0]))\n",
    "    print('Negative tweets count before elecions: %d' % (negative_tweets_count[0][0]))\n",
    "    print('Neutral tweets count before elecions: %d' % (neutral_tweets_count[0][0]))\n",
    "    print('Positive tweets count before elecions: %d' % (positive_tweets_count[0][0]))\n",
    "    \n",
    "    sentiment = ['negative', 'neutral', 'positive']\n",
    "    tweets_count = []\n",
    "    \n",
    "    tweets_count.append(negative_tweets_count[0][0])\n",
    "    tweets_count.append(neutral_tweets_count[0][0])\n",
    "    tweets_count.append(positive_tweets_count[0][0])\n",
    "\n",
    "    indices = np.arange(3)\n",
    "    plt.bar(indices, tweets_count, color=['red', 'blue', 'green'])\n",
    "    plt.xticks(indices, sentiment, rotation='vertical')\n",
    "    plt.tight_layout()\n",
    "    plt.show()\n",
    "    \n",
    "def draw_tweets_sentiment_mentioning_user_during_and_after_elections_histogram(data):    \n",
    "    negative_tweets_count = get_negative_tweets_count_during_and_after_elections(data)\n",
    "    neutral_tweets_count = get_neutral_tweets_count_during_and_after_elections(data)\n",
    "    positive_tweets_count = get_positive_tweets_count_during_and_after_elections(data)\n",
    "    \n",
    "    print('Total tweets count during and after elections mentioning Liberal Democrats party: %d' % (negative_tweets_count[0][0] + neutral_tweets_count[0][0] + positive_tweets_count[0][0]))\n",
    "    print('Negative tweets count during and after elecions: %d' % (negative_tweets_count[0][0]))\n",
    "    print('Neutral tweets count during and after elecions: %d' % (neutral_tweets_count[0][0]))\n",
    "    print('Positive tweets count during and after elecions: %d' % (positive_tweets_count[0][0]))\n",
    "    \n",
    "    sentiment = ['negative', 'neutral', 'positive']\n",
    "    tweets_count = []\n",
    "    \n",
    "    tweets_count.append(negative_tweets_count[0][0])\n",
    "    tweets_count.append(neutral_tweets_count[0][0])\n",
    "    tweets_count.append(positive_tweets_count[0][0])\n",
    "\n",
    "    indices = np.arange(3)\n",
    "    plt.bar(indices, tweets_count, color=['red', 'blue', 'green'])\n",
    "    plt.xticks(indices, sentiment, rotation='vertical')\n",
    "    plt.tight_layout()\n",
    "    plt.show()\n",
    "\n",
    "def main():\n",
    "    conn = connect_to_database()\n",
    "    cursor = conn.cursor()\n",
    "    draw_tweets_sentiment_mentioning_user_before_elections_histogram(cursor)\n",
    "    draw_tweets_sentiment_mentioning_user_during_and_after_elections_histogram(cursor)\n",
    "    \n",
    "if __name__ == \"__main__\":\n",
    "    main()"
   ]
  },
  {
   "cell_type": "markdown",
   "metadata": {},
   "source": [
    "Histogramy przedstawiające rozłożenie sentymentu tweetów, w których wspominiana została Jo Swinson przed i po wyborach"
   ]
  },
  {
   "cell_type": "code",
   "execution_count": 26,
   "metadata": {},
   "outputs": [
    {
     "name": "stdout",
     "output_type": "stream",
     "text": [
      "Total tweets count before elections mentioning Jo Swinson: 2667\n",
      "Negative tweets count before elecions: 767\n",
      "Neutral tweets count before elecions: 950\n",
      "Positive tweets count before elecions: 950\n"
     ]
    },
    {
     "data": {
      "image/png": "[encoded data removed]",
      "text/plain": [
       "<Figure size 432x288 with 1 Axes>"
      ]
     },
     "metadata": {
      "needs_background": "light"
     },
     "output_type": "display_data"
    },
    {
     "name": "stdout",
     "output_type": "stream",
     "text": [
      "Total tweets count during and after elections mentioning Jo Swinson: 356\n",
      "Negative tweets count during and after elecions: 96\n",
      "Neutral tweets count during and after elecions: 130\n",
      "Positive tweets count during and after elecions: 130\n"
     ]
    },
    {
     "data": {
      "image/png": "[encoded data removed]",
      "text/plain": [
       "<Figure size 432x288 with 1 Axes>"
      ]
     },
     "metadata": {
      "needs_background": "light"
     },
     "output_type": "display_data"
    }
   ],
   "source": [
    "def get_negative_tweets_count_before_elections(cursor):\n",
    "    postgres_select_query = \"SELECT count(t.id) FROM tweets t INNER JOIN mentions m ON t.id = m.tweetid INNER JOIN users u ON m.userid = u.id WHERE t.createdat<'2019-12-12' AND u.name='Jo Swinson' AND t.sentiment<0;\"\n",
    "    cursor.execute(postgres_select_query)\n",
    "    return cursor.fetchall()\n",
    "\n",
    "def get_neutral_tweets_count_before_elections(cursor):\n",
    "    postgres_select_query = \"SELECT count(t.id) FROM tweets t INNER JOIN mentions m ON t.id = m.tweetid INNER JOIN users u ON m.userid = u.id WHERE t.createdat<'2019-12-12' AND u.name='Jo Swinson' AND t.sentiment=0;\"\n",
    "    cursor.execute(postgres_select_query)\n",
    "    return cursor.fetchall()\n",
    "\n",
    "def get_positive_tweets_count_before_elections(cursor):\n",
    "    postgres_select_query = \"SELECT count(t.id) FROM tweets t INNER JOIN mentions m ON t.id = m.tweetid INNER JOIN users u ON m.userid = u.id WHERE t.createdat<'2019-12-12' AND u.name='Jo Swinson' AND t.sentiment=0;\"\n",
    "    cursor.execute(postgres_select_query)\n",
    "    return cursor.fetchall()\n",
    "\n",
    "def get_negative_tweets_count_during_and_after_elections(cursor):\n",
    "    postgres_select_query = \"SELECT count(t.id) FROM tweets t INNER JOIN mentions m ON t.id = m.tweetid INNER JOIN users u ON m.userid = u.id WHERE t.createdat>='2019-12-12' AND u.name='Jo Swinson' AND t.sentiment<0;\"\n",
    "    cursor.execute(postgres_select_query)\n",
    "    return cursor.fetchall()\n",
    "\n",
    "def get_neutral_tweets_count_during_and_after_elections(cursor):\n",
    "    postgres_select_query = \"SELECT count(t.id) FROM tweets t INNER JOIN mentions m ON t.id = m.tweetid INNER JOIN users u ON m.userid = u.id WHERE t.createdat>='2019-12-12' AND u.name='Jo Swinson' AND t.sentiment=0;\"\n",
    "    cursor.execute(postgres_select_query)\n",
    "    return cursor.fetchall()\n",
    "\n",
    "def get_positive_tweets_count_during_and_after_elections(cursor):\n",
    "    postgres_select_query = \"SELECT count(t.id) FROM tweets t INNER JOIN mentions m ON t.id = m.tweetid INNER JOIN users u ON m.userid = u.id WHERE t.createdat>='2019-12-12' AND u.name='Jo Swinson' AND t.sentiment=0;\"\n",
    "    cursor.execute(postgres_select_query)\n",
    "    return cursor.fetchall()\n",
    "\n",
    "def draw_tweets_sentiment_mentioning_user_before_elections_histogram(data):    \n",
    "    negative_tweets_count = get_negative_tweets_count_before_elections(data)\n",
    "    neutral_tweets_count = get_neutral_tweets_count_before_elections(data)\n",
    "    positive_tweets_count = get_positive_tweets_count_before_elections(data)\n",
    "    \n",
    "    print('Total tweets count before elections mentioning Jo Swinson: %d' % (negative_tweets_count[0][0] + neutral_tweets_count[0][0] + positive_tweets_count[0][0]))\n",
    "    print('Negative tweets count before elecions: %d' % (negative_tweets_count[0][0]))\n",
    "    print('Neutral tweets count before elecions: %d' % (neutral_tweets_count[0][0]))\n",
    "    print('Positive tweets count before elecions: %d' % (positive_tweets_count[0][0]))\n",
    "    \n",
    "    sentiment = ['negative', 'neutral', 'positive']\n",
    "    tweets_count = []\n",
    "    \n",
    "    tweets_count.append(negative_tweets_count[0][0])\n",
    "    tweets_count.append(neutral_tweets_count[0][0])\n",
    "    tweets_count.append(positive_tweets_count[0][0])\n",
    "\n",
    "    indices = np.arange(3)\n",
    "    plt.bar(indices, tweets_count, color=['red', 'blue', 'green'])\n",
    "    plt.xticks(indices, sentiment, rotation='vertical')\n",
    "    plt.tight_layout()\n",
    "    plt.show()\n",
    "    \n",
    "def draw_tweets_sentiment_mentioning_user_during_and_after_elections_histogram(data):    \n",
    "    negative_tweets_count = get_negative_tweets_count_during_and_after_elections(data)\n",
    "    neutral_tweets_count = get_neutral_tweets_count_during_and_after_elections(data)\n",
    "    positive_tweets_count = get_positive_tweets_count_during_and_after_elections(data)\n",
    "    \n",
    "    print('Total tweets count during and after elections mentioning Jo Swinson: %d' % (negative_tweets_count[0][0] + neutral_tweets_count[0][0] + positive_tweets_count[0][0]))\n",
    "    print('Negative tweets count during and after elecions: %d' % (negative_tweets_count[0][0]))\n",
    "    print('Neutral tweets count during and after elecions: %d' % (neutral_tweets_count[0][0]))\n",
    "    print('Positive tweets count during and after elecions: %d' % (positive_tweets_count[0][0]))\n",
    "    \n",
    "    sentiment = ['negative', 'neutral', 'positive']\n",
    "    tweets_count = []\n",
    "    \n",
    "    tweets_count.append(negative_tweets_count[0][0])\n",
    "    tweets_count.append(neutral_tweets_count[0][0])\n",
    "    tweets_count.append(positive_tweets_count[0][0])\n",
    "\n",
    "    indices = np.arange(3)\n",
    "    plt.bar(indices, tweets_count, color=['red', 'blue', 'green'])\n",
    "    plt.xticks(indices, sentiment, rotation='vertical')\n",
    "    plt.tight_layout()\n",
    "    plt.show()\n",
    "\n",
    "def main():\n",
    "    conn = connect_to_database()\n",
    "    cursor = conn.cursor()\n",
    "    draw_tweets_sentiment_mentioning_user_before_elections_histogram(cursor)\n",
    "    draw_tweets_sentiment_mentioning_user_during_and_after_elections_histogram(cursor)\n",
    "    \n",
    "if __name__ == \"__main__\":\n",
    "    main()"
   ]
  },
  {
   "cell_type": "markdown",
   "metadata": {},
   "source": [
    "Histogramy przedstawiające rozłożenie sentymentu tweetów, w których wspominiana została Nigel Farage przed i po wyborach"
   ]
  },
  {
   "cell_type": "code",
   "execution_count": 27,
   "metadata": {},
   "outputs": [
    {
     "name": "stdout",
     "output_type": "stream",
     "text": [
      "Total tweets count before elections mentioning Nigel Farage: 2317\n",
      "Negative tweets count before elecions: 609\n",
      "Neutral tweets count before elecions: 854\n",
      "Positive tweets count before elecions: 854\n"
     ]
    },
    {
     "data": {
      "image/png": "[encoded data removed]",
      "text/plain": [
       "<Figure size 432x288 with 1 Axes>"
      ]
     },
     "metadata": {
      "needs_background": "light"
     },
     "output_type": "display_data"
    },
    {
     "name": "stdout",
     "output_type": "stream",
     "text": [
      "Total tweets count during and after elections mentioning Nigel Farage: 485\n",
      "Negative tweets count during and after elecions: 83\n",
      "Neutral tweets count during and after elecions: 201\n",
      "Positive tweets count during and after elecions: 201\n"
     ]
    },
    {
     "data": {
      "image/png": "[encoded data removed]",
      "text/plain": [
       "<Figure size 432x288 with 1 Axes>"
      ]
     },
     "metadata": {
      "needs_background": "light"
     },
     "output_type": "display_data"
    }
   ],
   "source": [
    "def get_negative_tweets_count_before_elections(cursor):\n",
    "    postgres_select_query = \"SELECT count(t.id) FROM tweets t INNER JOIN mentions m ON t.id = m.tweetid INNER JOIN users u ON m.userid = u.id WHERE t.createdat<'2019-12-12' AND u.name='Nigel Farage' AND t.sentiment<0;\"\n",
    "    cursor.execute(postgres_select_query)\n",
    "    return cursor.fetchall()\n",
    "\n",
    "def get_neutral_tweets_count_before_elections(cursor):\n",
    "    postgres_select_query = \"SELECT count(t.id) FROM tweets t INNER JOIN mentions m ON t.id = m.tweetid INNER JOIN users u ON m.userid = u.id WHERE t.createdat<'2019-12-12' AND u.name='Nigel Farage' AND t.sentiment=0;\"\n",
    "    cursor.execute(postgres_select_query)\n",
    "    return cursor.fetchall()\n",
    "\n",
    "def get_positive_tweets_count_before_elections(cursor):\n",
    "    postgres_select_query = \"SELECT count(t.id) FROM tweets t INNER JOIN mentions m ON t.id = m.tweetid INNER JOIN users u ON m.userid = u.id WHERE t.createdat<'2019-12-12' AND u.name='Nigel Farage' AND t.sentiment=0;\"\n",
    "    cursor.execute(postgres_select_query)\n",
    "    return cursor.fetchall()\n",
    "\n",
    "def get_negative_tweets_count_during_and_after_elections(cursor):\n",
    "    postgres_select_query = \"SELECT count(t.id) FROM tweets t INNER JOIN mentions m ON t.id = m.tweetid INNER JOIN users u ON m.userid = u.id WHERE t.createdat>='2019-12-12' AND u.name='Nigel Farage' AND t.sentiment<0;\"\n",
    "    cursor.execute(postgres_select_query)\n",
    "    return cursor.fetchall()\n",
    "\n",
    "def get_neutral_tweets_count_during_and_after_elections(cursor):\n",
    "    postgres_select_query = \"SELECT count(t.id) FROM tweets t INNER JOIN mentions m ON t.id = m.tweetid INNER JOIN users u ON m.userid = u.id WHERE t.createdat>='2019-12-12' AND u.name='Nigel Farage' AND t.sentiment=0;\"\n",
    "    cursor.execute(postgres_select_query)\n",
    "    return cursor.fetchall()\n",
    "\n",
    "def get_positive_tweets_count_during_and_after_elections(cursor):\n",
    "    postgres_select_query = \"SELECT count(t.id) FROM tweets t INNER JOIN mentions m ON t.id = m.tweetid INNER JOIN users u ON m.userid = u.id WHERE t.createdat>='2019-12-12' AND u.name='Nigel Farage' AND t.sentiment=0;\"\n",
    "    cursor.execute(postgres_select_query)\n",
    "    return cursor.fetchall()\n",
    "\n",
    "def draw_tweets_sentiment_mentioning_user_before_elections_histogram(data):    \n",
    "    negative_tweets_count = get_negative_tweets_count_before_elections(data)\n",
    "    neutral_tweets_count = get_neutral_tweets_count_before_elections(data)\n",
    "    positive_tweets_count = get_positive_tweets_count_before_elections(data)\n",
    "    \n",
    "    print('Total tweets count before elections mentioning Nigel Farage: %d' % (negative_tweets_count[0][0] + neutral_tweets_count[0][0] + positive_tweets_count[0][0]))\n",
    "    print('Negative tweets count before elecions: %d' % (negative_tweets_count[0][0]))\n",
    "    print('Neutral tweets count before elecions: %d' % (neutral_tweets_count[0][0]))\n",
    "    print('Positive tweets count before elecions: %d' % (positive_tweets_count[0][0]))\n",
    "    \n",
    "    sentiment = ['negative', 'neutral', 'positive']\n",
    "    tweets_count = []\n",
    "    \n",
    "    tweets_count.append(negative_tweets_count[0][0])\n",
    "    tweets_count.append(neutral_tweets_count[0][0])\n",
    "    tweets_count.append(positive_tweets_count[0][0])\n",
    "\n",
    "    indices = np.arange(3)\n",
    "    plt.bar(indices, tweets_count, color=['red', 'blue', 'green'])\n",
    "    plt.xticks(indices, sentiment, rotation='vertical')\n",
    "    plt.tight_layout()\n",
    "    plt.show()\n",
    "    \n",
    "def draw_tweets_sentiment_mentioning_user_during_and_after_elections_histogram(data):    \n",
    "    negative_tweets_count = get_negative_tweets_count_during_and_after_elections(data)\n",
    "    neutral_tweets_count = get_neutral_tweets_count_during_and_after_elections(data)\n",
    "    positive_tweets_count = get_positive_tweets_count_during_and_after_elections(data)\n",
    "    \n",
    "    print('Total tweets count during and after elections mentioning Nigel Farage: %d' % (negative_tweets_count[0][0] + neutral_tweets_count[0][0] + positive_tweets_count[0][0]))\n",
    "    print('Negative tweets count during and after elecions: %d' % (negative_tweets_count[0][0]))\n",
    "    print('Neutral tweets count during and after elecions: %d' % (neutral_tweets_count[0][0]))\n",
    "    print('Positive tweets count during and after elecions: %d' % (positive_tweets_count[0][0]))\n",
    "    \n",
    "    sentiment = ['negative', 'neutral', 'positive']\n",
    "    tweets_count = []\n",
    "    \n",
    "    tweets_count.append(negative_tweets_count[0][0])\n",
    "    tweets_count.append(neutral_tweets_count[0][0])\n",
    "    tweets_count.append(positive_tweets_count[0][0])\n",
    "\n",
    "    indices = np.arange(3)\n",
    "    plt.bar(indices, tweets_count, color=['red', 'blue', 'green'])\n",
    "    plt.xticks(indices, sentiment, rotation='vertical')\n",
    "    plt.tight_layout()\n",
    "    plt.show()\n",
    "\n",
    "def main():\n",
    "    conn = connect_to_database()\n",
    "    cursor = conn.cursor()\n",
    "    draw_tweets_sentiment_mentioning_user_before_elections_histogram(cursor)\n",
    "    draw_tweets_sentiment_mentioning_user_during_and_after_elections_histogram(cursor)\n",
    "    \n",
    "if __name__ == \"__main__\":\n",
    "    main()"
   ]
  },
  {
   "cell_type": "markdown",
   "metadata": {},
   "source": [
    "Histogram przedstawiający rozłożenie sentymentu komentarzy do tweetów Borisa Johnsona"
   ]
  },
  {
   "cell_type": "code",
   "execution_count": 30,
   "metadata": {},
   "outputs": [
    {
     "name": "stdout",
     "output_type": "stream",
     "text": [
      "Total comments to Boris Johnsons' tweets: 2317\n",
      "Negative comments count: 609\n",
      "Neutral comments count: 854\n",
      "Positive comments count: 854\n"
     ]
    },
    {
     "data": {
      "image/png": "[encoded data removed]",
      "text/plain": [
       "<Figure size 432x288 with 1 Axes>"
      ]
     },
     "metadata": {
      "needs_background": "light"
     },
     "output_type": "display_data"
    }
   ],
   "source": [
    "def get_negative_tweets_count(cursor):\n",
    "    postgres_select_query = \"SELECT count(c.tweetid) FROM comments c INNER JOIN tweets t ON c.tweetid = t.id WHERE t.userid = (SELECT id FROM users WHERE name='Boris Johnson' AND screenname='BorisJohnson') AND t.sentiment<0;\"\n",
    "    cursor.execute(postgres_select_query)\n",
    "    return cursor.fetchall()\n",
    "\n",
    "def get_neutral_tweets_count(cursor):\n",
    "    postgres_select_query = \"SELECT count(c.tweetid) FROM comments c INNER JOIN tweets t ON c.tweetid = t.id WHERE t.userid = (SELECT id FROM users WHERE name='Boris Johnson' AND screenname='BorisJohnson') AND t.sentiment=0;\"\n",
    "    cursor.execute(postgres_select_query)\n",
    "    return cursor.fetchall()\n",
    "\n",
    "def get_positive_tweets_count(cursor):\n",
    "    postgres_select_query = \"SELECT count(c.tweetid) FROM comments c INNER JOIN tweets t ON c.tweetid = t.id WHERE t.userid = (SELECT id FROM users WHERE name='Boris Johnson' AND screenname='BorisJohnson') AND t.sentiment>0;\"\n",
    "    cursor.execute(postgres_select_query)\n",
    "    return cursor.fetchall()\n",
    "\n",
    "def draw_comments_to_user_tweets_sentiment_histogram(data):    \n",
    "    negative_comments_count = get_negative_tweets_count_before_elections(data)\n",
    "    neutral_comments_count = get_neutral_tweets_count_before_elections(data)\n",
    "    positive_comments_count = get_positive_tweets_count_before_elections(data)\n",
    "    \n",
    "    print('Total comments to Boris Johnsons\\' tweets: %d' % (negative_comments_count[0][0] + neutral_comments_count[0][0] + positive_comments_count[0][0]))\n",
    "    print('Negative comments count: %d' % (negative_comments_count[0][0]))\n",
    "    print('Neutral comments count: %d' % (neutral_comments_count[0][0]))\n",
    "    print('Positive comments count: %d' % (positive_comments_count[0][0]))\n",
    "    \n",
    "    sentiment = ['negative', 'neutral', 'positive']\n",
    "    comments_count = []\n",
    "    \n",
    "    comments_count.append(negative_comments_count[0][0])\n",
    "    comments_count.append(neutral_comments_count[0][0])\n",
    "    comments_count.append(positive_comments_count[0][0])\n",
    "\n",
    "    indices = np.arange(3)\n",
    "    plt.bar(indices, comments_count, color=['red', 'blue', 'green'])\n",
    "    plt.xticks(indices, sentiment, rotation='vertical')\n",
    "    plt.tight_layout()\n",
    "    plt.show()\n",
    "    \n",
    "def main():\n",
    "    conn = connect_to_database()\n",
    "    cursor = conn.cursor()\n",
    "    draw_comments_to_user_tweets_sentiment_histogram(cursor)\n",
    "    \n",
    "if __name__ == \"__main__\":\n",
    "    main()"
   ]
  },
  {
   "cell_type": "markdown",
   "metadata": {},
   "source": [
    "Histogram przedstawiający rozłożenie sentymentu komentarzy do tweetów partii Konserwatystów (Conservatives)"
   ]
  },
  {
   "cell_type": "code",
   "execution_count": 29,
   "metadata": {},
   "outputs": [
    {
     "name": "stdout",
     "output_type": "stream",
     "text": [
      "Total comments to Conservatives tweets: 2317\n",
      "Negative comments count: 609\n",
      "Neutral comments count: 854\n",
      "Positive comments count: 854\n"
     ]
    },
    {
     "data": {
      "image/png": "[encoded data removed]",
      "text/plain": [
       "<Figure size 432x288 with 1 Axes>"
      ]
     },
     "metadata": {
      "needs_background": "light"
     },
     "output_type": "display_data"
    }
   ],
   "source": [
    "def get_negative_tweets_count(cursor):\n",
    "    postgres_select_query = \"SELECT count(c.tweetid) FROM comments c INNER JOIN tweets t ON c.tweetid = t.id WHERE t.userid = (SELECT id FROM users WHERE name='Conservatives' AND screenname='Conservatives') AND t.sentiment<0;\"\n",
    "    cursor.execute(postgres_select_query)\n",
    "    return cursor.fetchall()\n",
    "\n",
    "def get_neutral_tweets_count(cursor):\n",
    "    postgres_select_query = \"SELECT count(c.tweetid) FROM comments c INNER JOIN tweets t ON c.tweetid = t.id WHERE t.userid = (SELECT id FROM users WHERE name='Conservatives' AND screenname='Conservatives') AND t.sentiment=0;\"\n",
    "    cursor.execute(postgres_select_query)\n",
    "    return cursor.fetchall()\n",
    "\n",
    "def get_positive_tweets_count(cursor):\n",
    "    postgres_select_query = \"SELECT count(c.tweetid) FROM comments c INNER JOIN tweets t ON c.tweetid = t.id WHERE t.userid = (SELECT id FROM users WHERE name='Conservatives' AND screenname='Conservatives') AND t.sentiment>0;\"\n",
    "    cursor.execute(postgres_select_query)\n",
    "    return cursor.fetchall()\n",
    "\n",
    "def draw_comments_to_user_tweets_sentiment_histogram(data):    \n",
    "    negative_comments_count = get_negative_tweets_count_before_elections(data)\n",
    "    neutral_comments_count = get_neutral_tweets_count_before_elections(data)\n",
    "    positive_comments_count = get_positive_tweets_count_before_elections(data)\n",
    "    \n",
    "    print('Total comments to Conservatives tweets: %d' % (negative_comments_count[0][0] + neutral_comments_count[0][0] + positive_comments_count[0][0]))\n",
    "    print('Negative comments count: %d' % (negative_comments_count[0][0]))\n",
    "    print('Neutral comments count: %d' % (neutral_comments_count[0][0]))\n",
    "    print('Positive comments count: %d' % (positive_comments_count[0][0]))\n",
    "    \n",
    "    sentiment = ['negative', 'neutral', 'positive']\n",
    "    comments_count = []\n",
    "    \n",
    "    comments_count.append(negative_comments_count[0][0])\n",
    "    comments_count.append(neutral_comments_count[0][0])\n",
    "    comments_count.append(positive_comments_count[0][0])\n",
    "\n",
    "    indices = np.arange(3)\n",
    "    plt.bar(indices, comments_count, color=['red', 'blue', 'green'])\n",
    "    plt.xticks(indices, sentiment, rotation='vertical')\n",
    "    plt.tight_layout()\n",
    "    plt.show()\n",
    "    \n",
    "def main():\n",
    "    conn = connect_to_database()\n",
    "    cursor = conn.cursor()\n",
    "    draw_comments_to_user_tweets_sentiment_histogram(cursor)\n",
    "    \n",
    "if __name__ == \"__main__\":\n",
    "    main()"
   ]
  },
  {
   "cell_type": "markdown",
   "metadata": {},
   "source": [
    "Histogram przedstawiający rozłożenie sentymentu komentarzy do tweetów Jo Swinson"
   ]
  },
  {
   "cell_type": "code",
   "execution_count": 33,
   "metadata": {},
   "outputs": [
    {
     "name": "stdout",
     "output_type": "stream",
     "text": [
      "Total comments to Jo Swinson's tweets: 2317\n",
      "Negative comments count: 609\n",
      "Neutral comments count: 854\n",
      "Positive comments count: 854\n"
     ]
    },
    {
     "data": {
      "image/png": "[encoded data removed]",
      "text/plain": [
       "<Figure size 432x288 with 1 Axes>"
      ]
     },
     "metadata": {
      "needs_background": "light"
     },
     "output_type": "display_data"
    }
   ],
   "source": [
    "def get_negative_tweets_count(cursor):\n",
    "    postgres_select_query = \"SELECT count(c.tweetid) FROM comments c INNER JOIN tweets t ON c.tweetid = t.id WHERE t.userid = (SELECT id FROM users WHERE name='Jo Swinson' AND screenname='joswinson') AND t.sentiment<0;\"\n",
    "    cursor.execute(postgres_select_query)\n",
    "    return cursor.fetchall()\n",
    "\n",
    "def get_neutral_tweets_count(cursor):\n",
    "    postgres_select_query = \"SELECT count(c.tweetid) FROM comments c INNER JOIN tweets t ON c.tweetid = t.id WHERE t.userid = (SELECT id FROM users WHERE name='Jo Swinson' AND screenname='joswinson') AND t.sentiment=0;\"\n",
    "    cursor.execute(postgres_select_query)\n",
    "    return cursor.fetchall()\n",
    "\n",
    "def get_positive_tweets_count(cursor):\n",
    "    postgres_select_query = \"SELECT count(c.tweetid) FROM comments c INNER JOIN tweets t ON c.tweetid = t.id WHERE t.userid = (SELECT id FROM users WHERE name='Jo Swinson' AND screenname='joswinson') AND t.sentiment>0;\"\n",
    "    cursor.execute(postgres_select_query)\n",
    "    return cursor.fetchall()\n",
    "\n",
    "def draw_comments_to_user_tweets_sentiment_histogram(data):    \n",
    "    negative_comments_count = get_negative_tweets_count_before_elections(data)\n",
    "    neutral_comments_count = get_neutral_tweets_count_before_elections(data)\n",
    "    positive_comments_count = get_positive_tweets_count_before_elections(data)\n",
    "    \n",
    "    print('Total comments to Jo Swinson\\'s tweets: %d' % (negative_comments_count[0][0] + neutral_comments_count[0][0] + positive_comments_count[0][0]))\n",
    "    print('Negative comments count: %d' % (negative_comments_count[0][0]))\n",
    "    print('Neutral comments count: %d' % (neutral_comments_count[0][0]))\n",
    "    print('Positive comments count: %d' % (positive_comments_count[0][0]))\n",
    "    \n",
    "    sentiment = ['negative', 'neutral', 'positive']\n",
    "    comments_count = []\n",
    "    \n",
    "    comments_count.append(negative_comments_count[0][0])\n",
    "    comments_count.append(neutral_comments_count[0][0])\n",
    "    comments_count.append(positive_comments_count[0][0])\n",
    "\n",
    "    indices = np.arange(3)\n",
    "    plt.bar(indices, comments_count, color=['red', 'blue', 'green'])\n",
    "    plt.xticks(indices, sentiment, rotation='vertical')\n",
    "    plt.tight_layout()\n",
    "    plt.show()\n",
    "    \n",
    "def main():\n",
    "    conn = connect_to_database()\n",
    "    cursor = conn.cursor()\n",
    "    draw_comments_to_user_tweets_sentiment_histogram(cursor)\n",
    "    \n",
    "if __name__ == \"__main__\":\n",
    "    main()"
   ]
  },
  {
   "cell_type": "markdown",
   "metadata": {},
   "source": [
    "Histogram przedstawiający rozłożenie sentymentu komentarzy do tweetów partii Liberalnych Demokratów (Liberal Democrats)"
   ]
  },
  {
   "cell_type": "code",
   "execution_count": 36,
   "metadata": {},
   "outputs": [
    {
     "name": "stdout",
     "output_type": "stream",
     "text": [
      "Total comments to Liberal Democrats' tweets: 2317\n",
      "Negative comments count: 609\n",
      "Neutral comments count: 854\n",
      "Positive comments count: 854\n"
     ]
    },
    {
     "data": {
      "image/png": "[encoded data removed]",
      "text/plain": [
       "<Figure size 432x288 with 1 Axes>"
      ]
     },
     "metadata": {
      "needs_background": "light"
     },
     "output_type": "display_data"
    }
   ],
   "source": [
    "def get_negative_tweets_count(cursor):\n",
    "    postgres_select_query = \"SELECT count(c.tweetid) FROM comments c INNER JOIN tweets t ON c.tweetid = t.id WHERE t.userid = (SELECT id FROM users WHERE name='Liberal Democrats' AND screenname='LibDems') AND t.sentiment<0;\"\n",
    "    cursor.execute(postgres_select_query)\n",
    "    return cursor.fetchall()\n",
    "\n",
    "def get_neutral_tweets_count(cursor):\n",
    "    postgres_select_query = \"SELECT count(c.tweetid) FROM comments c INNER JOIN tweets t ON c.tweetid = t.id WHERE t.userid = (SELECT id FROM users WHERE name='Liberal Democrats' AND screenname='LibDems') AND t.sentiment=0;\"\n",
    "    cursor.execute(postgres_select_query)\n",
    "    return cursor.fetchall()\n",
    "\n",
    "def get_positive_tweets_count(cursor):\n",
    "    postgres_select_query = \"SELECT count(c.tweetid) FROM comments c INNER JOIN tweets t ON c.tweetid = t.id WHERE t.userid = (SELECT id FROM users WHERE name='Liberal Democrats' AND screenname='LibDems') AND t.sentiment>0;\"\n",
    "    cursor.execute(postgres_select_query)\n",
    "    return cursor.fetchall()\n",
    "\n",
    "def draw_comments_to_user_tweets_sentiment_histogram(data):    \n",
    "    negative_comments_count = get_negative_tweets_count_before_elections(data)\n",
    "    neutral_comments_count = get_neutral_tweets_count_before_elections(data)\n",
    "    positive_comments_count = get_positive_tweets_count_before_elections(data)\n",
    "    \n",
    "    print('Total comments to Liberal Democrats\\' tweets: %d' % (negative_comments_count[0][0] + neutral_comments_count[0][0] + positive_comments_count[0][0]))\n",
    "    print('Negative comments count: %d' % (negative_comments_count[0][0]))\n",
    "    print('Neutral comments count: %d' % (neutral_comments_count[0][0]))\n",
    "    print('Positive comments count: %d' % (positive_comments_count[0][0]))\n",
    "    \n",
    "    sentiment = ['negative', 'neutral', 'positive']\n",
    "    comments_count = []\n",
    "    \n",
    "    comments_count.append(negative_comments_count[0][0])\n",
    "    comments_count.append(neutral_comments_count[0][0])\n",
    "    comments_count.append(positive_comments_count[0][0])\n",
    "\n",
    "    indices = np.arange(3)\n",
    "    plt.bar(indices, comments_count, color=['red', 'blue', 'green'])\n",
    "    plt.xticks(indices, sentiment, rotation='vertical')\n",
    "    plt.tight_layout()\n",
    "    plt.show()\n",
    "    \n",
    "def main():\n",
    "    conn = connect_to_database()\n",
    "    cursor = conn.cursor()\n",
    "    draw_comments_to_user_tweets_sentiment_histogram(cursor)\n",
    "    \n",
    "if __name__ == \"__main__\":\n",
    "    main()"
   ]
  },
  {
   "cell_type": "markdown",
   "metadata": {},
   "source": [
    "Histogram przedstawiający rozłożenie sentymentu komentarzy do tweetów Nigela Farage'a"
   ]
  },
  {
   "cell_type": "code",
   "execution_count": 37,
   "metadata": {},
   "outputs": [
    {
     "name": "stdout",
     "output_type": "stream",
     "text": [
      "Total comments to Nigel Farage's tweets: 2317\n",
      "Negative comments count: 609\n",
      "Neutral comments count: 854\n",
      "Positive comments count: 854\n"
     ]
    },
    {
     "data": {
      "image/png": "[encoded data removed]",
      "text/plain": [
       "<Figure size 432x288 with 1 Axes>"
      ]
     },
     "metadata": {
      "needs_background": "light"
     },
     "output_type": "display_data"
    }
   ],
   "source": [
    "def get_negative_tweets_count(cursor):\n",
    "    postgres_select_query = \"SELECT count(c.tweetid) FROM comments c INNER JOIN tweets t ON c.tweetid = t.id WHERE t.userid = (SELECT id FROM users WHERE name='Nigel Farage' AND screenname='Nigel_Farage') AND t.sentiment<0;\"\n",
    "    cursor.execute(postgres_select_query)\n",
    "    return cursor.fetchall()\n",
    "\n",
    "def get_neutral_tweets_count(cursor):\n",
    "    postgres_select_query = \"SELECT count(c.tweetid) FROM comments c INNER JOIN tweets t ON c.tweetid = t.id WHERE t.userid = (SELECT id FROM users WHERE name='Nigel Farage' AND screenname='Nigel_Farage') AND t.sentiment=0;\"\n",
    "    cursor.execute(postgres_select_query)\n",
    "    return cursor.fetchall()\n",
    "\n",
    "def get_positive_tweets_count(cursor):\n",
    "    postgres_select_query = \"SELECT count(c.tweetid) FROM comments c INNER JOIN tweets t ON c.tweetid = t.id WHERE t.userid = (SELECT id FROM users WHERE name='Nigel Farage' AND screenname='Nigel_Farage') AND t.sentiment>0;\"\n",
    "    cursor.execute(postgres_select_query)\n",
    "    return cursor.fetchall()\n",
    "\n",
    "def draw_comments_to_user_tweets_sentiment_histogram(data):    \n",
    "    negative_comments_count = get_negative_tweets_count_before_elections(data)\n",
    "    neutral_comments_count = get_neutral_tweets_count_before_elections(data)\n",
    "    positive_comments_count = get_positive_tweets_count_before_elections(data)\n",
    "    \n",
    "    print('Total comments to Nigel Farage\\'s tweets: %d' % (negative_comments_count[0][0] + neutral_comments_count[0][0] + positive_comments_count[0][0]))\n",
    "    print('Negative comments count: %d' % (negative_comments_count[0][0]))\n",
    "    print('Neutral comments count: %d' % (neutral_comments_count[0][0]))\n",
    "    print('Positive comments count: %d' % (positive_comments_count[0][0]))\n",
    "    \n",
    "    sentiment = ['negative', 'neutral', 'positive']\n",
    "    comments_count = []\n",
    "    \n",
    "    comments_count.append(negative_comments_count[0][0])\n",
    "    comments_count.append(neutral_comments_count[0][0])\n",
    "    comments_count.append(positive_comments_count[0][0])\n",
    "\n",
    "    indices = np.arange(3)\n",
    "    plt.bar(indices, comments_count, color=['red', 'blue', 'green'])\n",
    "    plt.xticks(indices, sentiment, rotation='vertical')\n",
    "    plt.tight_layout()\n",
    "    plt.show()\n",
    "    \n",
    "def main():\n",
    "    conn = connect_to_database()\n",
    "    cursor = conn.cursor()\n",
    "    draw_comments_to_user_tweets_sentiment_histogram(cursor)\n",
    "    \n",
    "if __name__ == \"__main__\":\n",
    "    main()"
   ]
  }
 ],
 "metadata": {
  "kernelspec": {
   "display_name": "Python 3",
   "language": "python",
   "name": "python3"
  },
  "language_info": {
   "codemirror_mode": {
    "name": "ipython",
    "version": 3
   },
   "file_extension": ".py",
   "mimetype": "text/x-python",
   "name": "python",
   "nbconvert_exporter": "python",
   "pygments_lexer": "ipython3",
   "version": "3.6.8"
  }
 },
 "nbformat": 4,
 "nbformat_minor": 2
}
